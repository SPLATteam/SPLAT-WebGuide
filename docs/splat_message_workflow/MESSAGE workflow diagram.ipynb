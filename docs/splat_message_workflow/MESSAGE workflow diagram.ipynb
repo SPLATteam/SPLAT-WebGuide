{
 "cells": [
  {
   "cell_type": "markdown",
   "id": "6314a492",
   "metadata": {},
   "source": [
    "https://towardsdatascience.com/graph-visualisation-basics-with-python-part-ii-directed-graph-with-networkx-5c1cd5564daa"
   ]
  },
  {
   "cell_type": "markdown",
   "id": "eeb6ded2",
   "metadata": {},
   "source": [
    "https://medium.com/towards-data-science/graph-visualisation-basics-with-python-part-iii-directed-graphs-with-graphviz-50116fb0d670"
   ]
  },
  {
   "cell_type": "code",
   "execution_count": 1,
   "id": "1d95018b",
   "metadata": {},
   "outputs": [],
   "source": [
    "import pandas as pd\n",
    "import graphviz\n",
    "import networkx as nx"
   ]
  },
  {
   "cell_type": "code",
   "execution_count": 2,
   "id": "93ab9960",
   "metadata": {},
   "outputs": [
    {
     "data": {
      "text/html": [
       "<div>\n",
       "<style scoped>\n",
       "    .dataframe tbody tr th:only-of-type {\n",
       "        vertical-align: middle;\n",
       "    }\n",
       "\n",
       "    .dataframe tbody tr th {\n",
       "        vertical-align: top;\n",
       "    }\n",
       "\n",
       "    .dataframe thead th {\n",
       "        text-align: right;\n",
       "    }\n",
       "</style>\n",
       "<table border=\"1\" class=\"dataframe\">\n",
       "  <thead>\n",
       "    <tr style=\"text-align: right;\">\n",
       "      <th></th>\n",
       "      <th>Nodes</th>\n",
       "      <th>Labels</th>\n",
       "      <th>Edge Labels</th>\n",
       "      <th>Shapes</th>\n",
       "      <th>Colors</th>\n",
       "    </tr>\n",
       "  </thead>\n",
       "  <tbody>\n",
       "    <tr>\n",
       "      <th>0</th>\n",
       "      <td>A1</td>\n",
       "      <td>Define Region and Case to be loaded.</td>\n",
       "      <td>NaN</td>\n",
       "      <td>oval</td>\n",
       "      <td>mistyrose</td>\n",
       "    </tr>\n",
       "    <tr>\n",
       "      <th>1</th>\n",
       "      <td>A2</td>\n",
       "      <td>Button: Reload Global (Main Sheet)\\n\\nAction: ...</td>\n",
       "      <td>NaN</td>\n",
       "      <td>box</td>\n",
       "      <td>skyblue</td>\n",
       "    </tr>\n",
       "    <tr>\n",
       "      <th>2</th>\n",
       "      <td>A3</td>\n",
       "      <td>Button: Run (ReportGen-Annual sheet)​ with Opt...</td>\n",
       "      <td>\\intm\\Region_Case.MPS file (matrix problem)</td>\n",
       "      <td>box</td>\n",
       "      <td>skyblue</td>\n",
       "    </tr>\n",
       "    <tr>\n",
       "      <th>3</th>\n",
       "      <td>A4</td>\n",
       "      <td>Button: Run (ReportGen-Annual sheet)​\\nRun Opt...</td>\n",
       "      <td>\\intm\\Region_Case_lin.sol file (solution file)</td>\n",
       "      <td>box</td>\n",
       "      <td>skyblue</td>\n",
       "    </tr>\n",
       "    <tr>\n",
       "      <th>4</th>\n",
       "      <td>A5</td>\n",
       "      <td>Button: Run (ReportGen-Annual sheet)​ with Opt...</td>\n",
       "      <td>\\res\\Region_Case.TAB (results table)</td>\n",
       "      <td>box</td>\n",
       "      <td>skyblue</td>\n",
       "    </tr>\n",
       "    <tr>\n",
       "      <th>5</th>\n",
       "      <td>A6</td>\n",
       "      <td>Button: Get Results (ReportGen-Annual sheet)​\\...</td>\n",
       "      <td>NaN</td>\n",
       "      <td>box</td>\n",
       "      <td>skyblue</td>\n",
       "    </tr>\n",
       "    <tr>\n",
       "      <th>6</th>\n",
       "      <td>A7</td>\n",
       "      <td>Get results in same sheet or separate excel or...</td>\n",
       "      <td>NaN</td>\n",
       "      <td>oval</td>\n",
       "      <td>mistyrose</td>\n",
       "    </tr>\n",
       "  </tbody>\n",
       "</table>\n",
       "</div>"
      ],
      "text/plain": [
       "  Nodes                                             Labels  \\\n",
       "0    A1               Define Region and Case to be loaded.   \n",
       "1    A2  Button: Reload Global (Main Sheet)\\n\\nAction: ...   \n",
       "2    A3  Button: Run (ReportGen-Annual sheet)​ with Opt...   \n",
       "3    A4  Button: Run (ReportGen-Annual sheet)​\\nRun Opt...   \n",
       "4    A5  Button: Run (ReportGen-Annual sheet)​ with Opt...   \n",
       "5    A6  Button: Get Results (ReportGen-Annual sheet)​\\...   \n",
       "6    A7  Get results in same sheet or separate excel or...   \n",
       "\n",
       "                                      Edge Labels Shapes     Colors  \n",
       "0                                             NaN   oval  mistyrose  \n",
       "1                                             NaN    box    skyblue  \n",
       "2     \\intm\\Region_Case.MPS file (matrix problem)    box    skyblue  \n",
       "3  \\intm\\Region_Case_lin.sol file (solution file)    box    skyblue  \n",
       "4            \\res\\Region_Case.TAB (results table)    box    skyblue  \n",
       "5                                             NaN    box    skyblue  \n",
       "6                                             NaN   oval  mistyrose  "
      ]
     },
     "execution_count": 2,
     "metadata": {},
     "output_type": "execute_result"
    }
   ],
   "source": [
    "df = pd.read_csv(\"message_workflow.csv\")\n",
    "df"
   ]
  },
  {
   "cell_type": "code",
   "execution_count": 3,
   "id": "5e85fb36",
   "metadata": {},
   "outputs": [
    {
     "data": {
      "image/svg+xml": [
       "<?xml version=\"1.0\" encoding=\"UTF-8\" standalone=\"no\"?>\n",
       "<!DOCTYPE svg PUBLIC \"-//W3C//DTD SVG 1.1//EN\"\n",
       " \"http://www.w3.org/Graphics/SVG/1.1/DTD/svg11.dtd\">\n",
       "<!-- Generated by graphviz version 2.50.0 (0)\n",
       " -->\n",
       "<!-- Pages: 1 -->\n",
       "<svg width=\"407pt\" height=\"674pt\"\n",
       " viewBox=\"0.00 0.00 407.06 674.00\" xmlns=\"http://www.w3.org/2000/svg\" xmlns:xlink=\"http://www.w3.org/1999/xlink\">\n",
       "<g id=\"graph0\" class=\"graph\" transform=\"scale(1 1) rotate(0) translate(4 670)\">\n",
       "<polygon fill=\"white\" stroke=\"transparent\" points=\"-4,4 -4,-670 403.06,-670 403.06,4 -4,4\"/>\n",
       "<!-- A1 -->\n",
       "<g id=\"node1\" class=\"node\">\n",
       "<title>A1</title>\n",
       "<ellipse fill=\"mistyrose\" stroke=\"mistyrose\" cx=\"199.53\" cy=\"-648\" rx=\"145.67\" ry=\"18\"/>\n",
       "<text text-anchor=\"middle\" x=\"199.53\" y=\"-644.3\" font-family=\"Times New Roman,serif\" font-size=\"14.00\">Define Region and Case to be loaded.</text>\n",
       "</g>\n",
       "<!-- A2 -->\n",
       "<g id=\"node2\" class=\"node\">\n",
       "<title>A2</title>\n",
       "<polygon fill=\"skyblue\" stroke=\"skyblue\" points=\"349.53,-593 49.53,-593 49.53,-539 349.53,-539 349.53,-593\"/>\n",
       "<text text-anchor=\"middle\" x=\"199.53\" y=\"-577.8\" font-family=\"Times New Roman,serif\" font-size=\"14.00\">Button: Reload Global (Main Sheet)</text>\n",
       "<text text-anchor=\"middle\" x=\"199.53\" y=\"-546.8\" font-family=\"Times New Roman,serif\" font-size=\"14.00\">Action: Load the SPLAT model into Excel memory</text>\n",
       "</g>\n",
       "<!-- A1&#45;&gt;A2 -->\n",
       "<g id=\"edge1\" class=\"edge\">\n",
       "<title>A1&#45;&gt;A2</title>\n",
       "<path fill=\"none\" stroke=\"black\" d=\"M199.53,-629.64C199.53,-621.9 199.53,-612.46 199.53,-603.29\"/>\n",
       "<polygon fill=\"black\" stroke=\"black\" points=\"203.03,-603.15 199.53,-593.15 196.03,-603.15 203.03,-603.15\"/>\n",
       "</g>\n",
       "<!-- A3 -->\n",
       "<g id=\"node3\" class=\"node\">\n",
       "<title>A3</title>\n",
       "<polygon fill=\"skyblue\" stroke=\"skyblue\" points=\"398.03,-502 1.03,-502 1.03,-448 398.03,-448 398.03,-502\"/>\n",
       "<text text-anchor=\"middle\" x=\"199.53\" y=\"-486.8\" font-family=\"Times New Roman,serif\" font-size=\"14.00\">Button: Run (ReportGen&#45;Annual sheet)​ with Options (Solver): MXG ​</text>\n",
       "<text text-anchor=\"middle\" x=\"199.53\" y=\"-455.8\" font-family=\"Times New Roman,serif\" font-size=\"14.00\">Action: Create solver readable file of the desired scenario </text>\n",
       "</g>\n",
       "<!-- A2&#45;&gt;A3 -->\n",
       "<g id=\"edge2\" class=\"edge\">\n",
       "<title>A2&#45;&gt;A3</title>\n",
       "<path fill=\"none\" stroke=\"black\" d=\"M199.53,-538.78C199.53,-530.45 199.53,-521.09 199.53,-512.18\"/>\n",
       "<polygon fill=\"black\" stroke=\"black\" points=\"203.03,-512.03 199.53,-502.03 196.03,-512.03 203.03,-512.03\"/>\n",
       "</g>\n",
       "<!-- A4 -->\n",
       "<g id=\"node4\" class=\"node\">\n",
       "<title>A4</title>\n",
       "<polygon fill=\"skyblue\" stroke=\"skyblue\" points=\"392.03,-382 7.03,-382 7.03,-313 392.03,-313 392.03,-382\"/>\n",
       "<text text-anchor=\"middle\" x=\"199.53\" y=\"-366.8\" font-family=\"Times New Roman,serif\" font-size=\"14.00\">Button: Run (ReportGen&#45;Annual sheet)​</text>\n",
       "<text text-anchor=\"middle\" x=\"199.53\" y=\"-351.8\" font-family=\"Times New Roman,serif\" font-size=\"14.00\">Run Options (Solver): Opt_CPLEX or Opt_CBC or Opt_GUROBI </text>\n",
       "<text text-anchor=\"middle\" x=\"199.53\" y=\"-320.8\" font-family=\"Times New Roman,serif\" font-size=\"14.00\">Action: Solve the optimization problem</text>\n",
       "</g>\n",
       "<!-- A3&#45;&gt;A4 -->\n",
       "<g id=\"edge3\" class=\"edge\">\n",
       "<title>A3&#45;&gt;A4</title>\n",
       "<path fill=\"none\" stroke=\"black\" d=\"M199.53,-448C199.53,-431.88 199.53,-410.78 199.53,-392.15\"/>\n",
       "<polygon fill=\"black\" stroke=\"black\" points=\"203.03,-392.11 199.53,-382.11 196.03,-392.11 203.03,-392.11\"/>\n",
       "<text text-anchor=\"middle\" x=\"267.53\" y=\"-418.8\" font-family=\"Times New Roman,serif\" font-size=\"14.00\">Creates matrix problem</text>\n",
       "<text text-anchor=\"middle\" x=\"267.53\" y=\"-403.8\" font-family=\"Times New Roman,serif\" font-size=\"14.00\"> \\intm\\Region_Case.mps</text>\n",
       "</g>\n",
       "<!-- A5 -->\n",
       "<g id=\"node5\" class=\"node\">\n",
       "<title>A5</title>\n",
       "<polygon fill=\"skyblue\" stroke=\"skyblue\" points=\"392.53,-247 6.53,-247 6.53,-193 392.53,-193 392.53,-247\"/>\n",
       "<text text-anchor=\"middle\" x=\"199.53\" y=\"-231.8\" font-family=\"Times New Roman,serif\" font-size=\"14.00\">Button: Run (ReportGen&#45;Annual sheet)​ with Options (Solver): Cap </text>\n",
       "<text text-anchor=\"middle\" x=\"199.53\" y=\"-200.8\" font-family=\"Times New Roman,serif\" font-size=\"14.00\">Action: Read the solution file</text>\n",
       "</g>\n",
       "<!-- A4&#45;&gt;A5 -->\n",
       "<g id=\"edge4\" class=\"edge\">\n",
       "<title>A4&#45;&gt;A5</title>\n",
       "<path fill=\"none\" stroke=\"black\" d=\"M199.53,-312.87C199.53,-295.79 199.53,-275.02 199.53,-257.55\"/>\n",
       "<polygon fill=\"black\" stroke=\"black\" points=\"203.03,-257.16 199.53,-247.16 196.03,-257.16 203.03,-257.16\"/>\n",
       "<text text-anchor=\"middle\" x=\"274.53\" y=\"-283.8\" font-family=\"Times New Roman,serif\" font-size=\"14.00\">Creates linear solution</text>\n",
       "<text text-anchor=\"middle\" x=\"274.53\" y=\"-268.8\" font-family=\"Times New Roman,serif\" font-size=\"14.00\"> \\intm\\Region_Case_lin.sol</text>\n",
       "</g>\n",
       "<!-- A6 -->\n",
       "<g id=\"node6\" class=\"node\">\n",
       "<title>A6</title>\n",
       "<polygon fill=\"skyblue\" stroke=\"skyblue\" points=\"335.53,-127 63.53,-127 63.53,-73 335.53,-73 335.53,-127\"/>\n",
       "<text text-anchor=\"middle\" x=\"199.53\" y=\"-111.8\" font-family=\"Times New Roman,serif\" font-size=\"14.00\">Button: Get Results (ReportGen&#45;Annual sheet)​</text>\n",
       "<text text-anchor=\"middle\" x=\"199.53\" y=\"-80.8\" font-family=\"Times New Roman,serif\" font-size=\"14.00\">Action: Extract results from results table​</text>\n",
       "</g>\n",
       "<!-- A5&#45;&gt;A6 -->\n",
       "<g id=\"edge5\" class=\"edge\">\n",
       "<title>A5&#45;&gt;A6</title>\n",
       "<path fill=\"none\" stroke=\"black\" d=\"M199.53,-192.81C199.53,-176.47 199.53,-155.19 199.53,-137.24\"/>\n",
       "<polygon fill=\"black\" stroke=\"black\" points=\"203.03,-137.11 199.53,-127.11 196.03,-137.11 203.03,-137.11\"/>\n",
       "<text text-anchor=\"middle\" x=\"259.53\" y=\"-163.8\" font-family=\"Times New Roman,serif\" font-size=\"14.00\">Creates results table</text>\n",
       "<text text-anchor=\"middle\" x=\"259.53\" y=\"-148.8\" font-family=\"Times New Roman,serif\" font-size=\"14.00\"> \\res\\Region_Case.tab</text>\n",
       "</g>\n",
       "<!-- A7 -->\n",
       "<g id=\"node7\" class=\"node\">\n",
       "<title>A7</title>\n",
       "<ellipse fill=\"mistyrose\" stroke=\"mistyrose\" cx=\"199.53\" cy=\"-18\" rx=\"199.56\" ry=\"18\"/>\n",
       "<text text-anchor=\"middle\" x=\"199.53\" y=\"-14.3\" font-family=\"Times New Roman,serif\" font-size=\"14.00\">Get results in same sheet or separate excel or csv file</text>\n",
       "</g>\n",
       "<!-- A6&#45;&gt;A7 -->\n",
       "<g id=\"edge6\" class=\"edge\">\n",
       "<title>A6&#45;&gt;A7</title>\n",
       "<path fill=\"none\" stroke=\"black\" d=\"M199.53,-72.81C199.53,-64.35 199.53,-54.95 199.53,-46.4\"/>\n",
       "<polygon fill=\"black\" stroke=\"black\" points=\"203.03,-46.17 199.53,-36.17 196.03,-46.17 203.03,-46.17\"/>\n",
       "</g>\n",
       "</g>\n",
       "</svg>\n"
      ],
      "text/plain": [
       "<graphviz.graphs.Digraph at 0x196c14c5880>"
      ]
     },
     "execution_count": 3,
     "metadata": {},
     "output_type": "execute_result"
    }
   ],
   "source": [
    "g = graphviz.Digraph(filename = \"message_workflow.gv\")\n",
    "\n",
    "nodes = df[\"Nodes\"].tolist()\n",
    "node_labels = df[\"Labels\"].tolist()\n",
    "shapes = df[\"Shapes\"].tolist()\n",
    "colors = df[\"Colors\"].tolist()\n",
    "\n",
    "for node, node_label, shape, color in zip(nodes, node_labels, shapes, colors):\n",
    "    g.node(node, node_label, shape = shape, color = color, style = \"filled\")\n",
    "\n",
    "g.edge(\"A1\", \"A2\")\n",
    "g.edge(\"A2\", \"A3\")\n",
    "g.edge(\"A3\", \"A4\", label = \"Creates matrix problem\\n \\\\\\\\intm\\\\\\\\Region_Case.mps\")\n",
    "g.edge(\"A4\", \"A5\", label = \"Creates linear solution\\n \\\\\\\\intm\\\\\\\\Region_Case_lin.sol\")\n",
    "g.edge(\"A5\", \"A6\", label = \"Creates results table\\n \\\\\\\\res\\\\\\\\Region_Case.tab\")\n",
    "g.edge(\"A6\", \"A7\")\n",
    "\n",
    "g"
   ]
  },
  {
   "cell_type": "code",
   "execution_count": 4,
   "id": "59e2c301",
   "metadata": {},
   "outputs": [
    {
     "data": {
      "text/plain": [
       "'message_workflow.gv.pdf'"
      ]
     },
     "execution_count": 4,
     "metadata": {},
     "output_type": "execute_result"
    }
   ],
   "source": [
    "g.view()"
   ]
  },
  {
   "cell_type": "code",
   "execution_count": 5,
   "id": "750fe16a",
   "metadata": {},
   "outputs": [
    {
     "data": {
      "text/plain": [
       "'message_workflow.png.pdf'"
      ]
     },
     "execution_count": 5,
     "metadata": {},
     "output_type": "execute_result"
    }
   ],
   "source": [
    "g.render(\"message_workflow.png\")"
   ]
  },
  {
   "cell_type": "code",
   "execution_count": 6,
   "id": "8485a9d1",
   "metadata": {},
   "outputs": [
    {
     "name": "stdout",
     "output_type": "stream",
     "text": [
      "digraph {\n",
      "\tA1 [label=\"Define Region and Case to be loaded.\" color=mistyrose shape=oval style=filled]\n",
      "\tA2 [label=\"Button: Reload Global (Main Sheet)\n",
      "\n",
      "Action: Load the SPLAT model into Excel memory\" color=skyblue shape=box style=filled]\n",
      "\tA3 [label=\"Button: Run (ReportGen-Annual sheet)​ with Options (Solver): MXG ​\n",
      "\n",
      "Action: Create solver readable file of the desired scenario \" color=skyblue shape=box style=filled]\n",
      "\tA4 [label=\"Button: Run (ReportGen-Annual sheet)​\n",
      "Run Options (Solver): Opt_CPLEX or Opt_CBC or Opt_GUROBI \n",
      "\n",
      "Action: Solve the optimization problem\" color=skyblue shape=box style=filled]\n",
      "\tA5 [label=\"Button: Run (ReportGen-Annual sheet)​ with Options (Solver): Cap \n",
      "\n",
      "Action: Read the solution file\" color=skyblue shape=box style=filled]\n",
      "\tA6 [label=\"Button: Get Results (ReportGen-Annual sheet)​\n",
      "\n",
      "Action: Extract results from results table​\" color=skyblue shape=box style=filled]\n",
      "\tA7 [label=\"Get results in same sheet or separate excel or csv file\" color=mistyrose shape=oval style=filled]\n",
      "\tA1 -> A2\n",
      "\tA2 -> A3\n",
      "\tA3 -> A4 [label=\"Creates matrix problem\n",
      " \\\\intm\\\\Region_Case.mps\"]\n",
      "\tA4 -> A5 [label=\"Creates linear solution\n",
      " \\\\intm\\\\Region_Case_lin.sol\"]\n",
      "\tA5 -> A6 [label=\"Creates results table\n",
      " \\\\res\\\\Region_Case.tab\"]\n",
      "\tA6 -> A7\n",
      "}\n",
      "\n"
     ]
    }
   ],
   "source": [
    "print (g.source)"
   ]
  },
  {
   "cell_type": "code",
   "execution_count": null,
   "id": "ca7fc7ea",
   "metadata": {},
   "outputs": [],
   "source": []
  },
  {
   "cell_type": "code",
   "execution_count": null,
   "id": "9c58b982",
   "metadata": {},
   "outputs": [],
   "source": []
  }
 ],
 "metadata": {
  "kernelspec": {
   "display_name": "Python 3 (ipykernel)",
   "language": "python",
   "name": "python3"
  },
  "language_info": {
   "codemirror_mode": {
    "name": "ipython",
    "version": 3
   },
   "file_extension": ".py",
   "mimetype": "text/x-python",
   "name": "python",
   "nbconvert_exporter": "python",
   "pygments_lexer": "ipython3",
   "version": "3.9.12"
  }
 },
 "nbformat": 4,
 "nbformat_minor": 5
}
